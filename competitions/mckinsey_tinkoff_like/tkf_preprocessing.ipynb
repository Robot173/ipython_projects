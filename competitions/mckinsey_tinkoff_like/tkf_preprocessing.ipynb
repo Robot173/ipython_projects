{
 "cells": [
  {
   "cell_type": "markdown",
   "metadata": {},
   "source": [
    "# Подготовка обучающей выборки"
   ]
  },
  {
   "cell_type": "code",
   "execution_count": 0,
   "metadata": {
    "colab": {
     "base_uri": "https://localhost:8080/",
     "height": 334
    },
    "colab_type": "code",
    "collapsed": true,
    "id": "5qLf_j4yYZQe",
    "outputId": "a9ffe856-451f-41e2-fd3a-13613600bb26"
   },
   "outputs": [
    {
     "name": "stdout",
     "output_type": "stream",
     "text": [
      "Populating the interactive namespace from numpy and matplotlib\n"
     ]
    },
    {
     "name": "stderr",
     "output_type": "stream",
     "text": [
      "C:\\Users\\Nikita\\Anaconda3\\lib\\site-packages\\tensorflow\\python\\util\\nest.py:1287: DeprecationWarning: Using or importing the ABCs from 'collections' instead of from 'collections.abc' is deprecated, and in 3.8 it will stop working\n",
      "  _pywrap_tensorflow.RegisterType(\"Sequence\", _collections.Sequence)\n",
      "C:\\Users\\Nikita\\Anaconda3\\lib\\site-packages\\tensorflow\\python\\training\\tracking\\object_identity.py:61: DeprecationWarning: Using or importing the ABCs from 'collections' instead of from 'collections.abc' is deprecated, and in 3.8 it will stop working\n",
      "  class ObjectIdentityDictionary(collections.MutableMapping):\n",
      "C:\\Users\\Nikita\\Anaconda3\\lib\\site-packages\\tensorflow\\python\\training\\tracking\\data_structures.py:374: DeprecationWarning: Using or importing the ABCs from 'collections' instead of from 'collections.abc' is deprecated, and in 3.8 it will stop working\n",
      "  class _ListWrapper(List, collections.MutableSequence,\n",
      "C:\\Users\\Nikita\\Anaconda3\\lib\\site-packages\\socks.py:58: DeprecationWarning: Using or importing the ABCs from 'collections' instead of from 'collections.abc' is deprecated, and in 3.8 it will stop working\n",
      "  from collections import Callable\n"
     ]
    }
   ],
   "source": [
    "import pandas as pd\n",
    "import json\n",
    "import pickle\n",
    "import numpy as np\n",
    "from colour import Color\n",
    "from collections import Counter\n",
    "import nltk\n",
    "import datetime as dt\n",
    "import artm\n",
    "import seaborn as sns\n",
    "\n",
    "from pymystem3 import Mystem\n",
    "\n",
    "%pylab inline"
   ]
  },
  {
   "cell_type": "code",
   "execution_count": 0,
   "metadata": {
    "colab": {},
    "colab_type": "code",
    "id": "n630lo6DrcFT"
   },
   "outputs": [],
   "source": [
    "with open('dict_features.pkl', 'rb') as r:\n",
    "    txt = r.read()\n",
    "    feature_dict = pickle.loads(txt)"
   ]
  },
  {
   "cell_type": "markdown",
   "metadata": {
    "colab_type": "text",
    "id": "AZGHAAzJZzqi"
   },
   "source": [
    "### Файл stories_description.csv (контент всех stories)"
   ]
  },
  {
   "cell_type": "markdown",
   "metadata": {
    "colab_type": "text",
    "id": "UGDUy50FjlZr"
   },
   "source": [
    "#### Извлечение информации из JSON"
   ]
  },
  {
   "cell_type": "code",
   "execution_count": 0,
   "metadata": {
    "colab": {
     "base_uri": "https://localhost:8080/",
     "height": 204
    },
    "colab_type": "code",
    "id": "aXurmPUTYYdp",
    "outputId": "e61595d6-9d9a-40a7-c1cf-62c6986cb079"
   },
   "outputs": [
    {
     "data": {
      "text/html": [
       "<div>\n",
       "<style scoped>\n",
       "    .dataframe tbody tr th:only-of-type {\n",
       "        vertical-align: middle;\n",
       "    }\n",
       "\n",
       "    .dataframe tbody tr th {\n",
       "        vertical-align: top;\n",
       "    }\n",
       "\n",
       "    .dataframe thead th {\n",
       "        text-align: right;\n",
       "    }\n",
       "</style>\n",
       "<table border=\"1\" class=\"dataframe\">\n",
       "  <thead>\n",
       "    <tr style=\"text-align: right;\">\n",
       "      <th></th>\n",
       "      <th>story_id</th>\n",
       "      <th>story_json</th>\n",
       "    </tr>\n",
       "  </thead>\n",
       "  <tbody>\n",
       "    <tr>\n",
       "      <th>0</th>\n",
       "      <td>127</td>\n",
       "      <td>{\"guid\":\"770a5bae-0e3f-4a6b-b924-bd87bd51a038\"...</td>\n",
       "    </tr>\n",
       "    <tr>\n",
       "      <th>1</th>\n",
       "      <td>254</td>\n",
       "      <td>{\"guid\":\"64f4c9ef-647b-4e04-b4d4-02297e939388\"...</td>\n",
       "    </tr>\n",
       "    <tr>\n",
       "      <th>2</th>\n",
       "      <td>865</td>\n",
       "      <td>{\"guid\":\"3482206b-d223-4aec-92ba-0150055cd68a\"...</td>\n",
       "    </tr>\n",
       "    <tr>\n",
       "      <th>3</th>\n",
       "      <td>1491</td>\n",
       "      <td>{\"guid\":\"5f4a9215-01de-4777-b70f-a18899db8f1c\"...</td>\n",
       "    </tr>\n",
       "    <tr>\n",
       "      <th>4</th>\n",
       "      <td>598</td>\n",
       "      <td>{\"guid\":\"ed8754bd-67be-4fa1-9289-5508d96f1fa4\"...</td>\n",
       "    </tr>\n",
       "  </tbody>\n",
       "</table>\n",
       "</div>"
      ],
      "text/plain": [
       "   story_id                                         story_json\n",
       "0       127  {\"guid\":\"770a5bae-0e3f-4a6b-b924-bd87bd51a038\"...\n",
       "1       254  {\"guid\":\"64f4c9ef-647b-4e04-b4d4-02297e939388\"...\n",
       "2       865  {\"guid\":\"3482206b-d223-4aec-92ba-0150055cd68a\"...\n",
       "3      1491  {\"guid\":\"5f4a9215-01de-4777-b70f-a18899db8f1c\"...\n",
       "4       598  {\"guid\":\"ed8754bd-67be-4fa1-9289-5508d96f1fa4\"..."
      ]
     },
     "execution_count": 8,
     "metadata": {
      "tags": []
     },
     "output_type": "execute_result"
    }
   ],
   "source": [
    "stories = pd.read_csv('stories_description.csv')\n",
    "stories.head()"
   ]
  },
  {
   "cell_type": "code",
   "execution_count": 0,
   "metadata": {
    "colab": {},
    "colab_type": "code",
    "id": "YNPrUuE2Ylvo"
   },
   "outputs": [],
   "source": [
    "def get_story_length(story):\n",
    "    story_json = json.loads(story.replace('\\\\\\\\', '\\\\'))\n",
    "    return len(list(filter(lambda x: x[\"type\"] == 'story-page', story_json['content'])))\n",
    "\n",
    "\n",
    "def get_recursively(search_dict, field):\n",
    "    fields_found = []\n",
    "\n",
    "    for key, value in search_dict.items():\n",
    "\n",
    "        if key == field:\n",
    "            fields_found.append(value)\n",
    "\n",
    "        elif isinstance(value, dict):\n",
    "            results = get_recursively(value, field)\n",
    "            for result in results:\n",
    "                fields_found.append(result)\n",
    "\n",
    "        elif isinstance(value, list):\n",
    "            for item in value:\n",
    "                if isinstance(item, dict):\n",
    "                    more_results = get_recursively(item, field)\n",
    "                    for another_result in more_results:\n",
    "                        fields_found.append(another_result)\n",
    "\n",
    "    return fields_found\n",
    "  \n",
    "\n",
    "def get_text(story):\n",
    "    story_json = json.loads(story.replace('\\\\\\\\', '\\\\'))\n",
    "    res = []\n",
    "    name = story_json.get('properties').get('name')\n",
    "    if name:\n",
    "        res.append(name)\n",
    "    for page in list(filter(lambda x: x[\"type\"] == 'story-page', story_json.get('content'))):\n",
    "        res += get_recursively(page, 'text')\n",
    "    if len(res):\n",
    "        return ' '.join([sent.replace('\\xa0', ' ') for sent in res]).replace('\\n', ' ').replace('. ', ' ').replace(', ', ' ')\n",
    "    return None"
   ]
  },
  {
   "cell_type": "code",
   "execution_count": 0,
   "metadata": {
    "colab": {
     "base_uri": "https://localhost:8080/",
     "height": 289
    },
    "colab_type": "code",
    "id": "syxF5DK6Ym2b",
    "outputId": "3fdb8423-9a9a-441b-f5e1-cf8c36a4c6a2"
   },
   "outputs": [
    {
     "data": {
      "text/html": [
       "<div>\n",
       "<style scoped>\n",
       "    .dataframe tbody tr th:only-of-type {\n",
       "        vertical-align: middle;\n",
       "    }\n",
       "\n",
       "    .dataframe tbody tr th {\n",
       "        vertical-align: top;\n",
       "    }\n",
       "\n",
       "    .dataframe thead th {\n",
       "        text-align: right;\n",
       "    }\n",
       "</style>\n",
       "<table border=\"1\" class=\"dataframe\">\n",
       "  <thead>\n",
       "    <tr style=\"text-align: right;\">\n",
       "      <th></th>\n",
       "      <th>story_id</th>\n",
       "      <th>story_json</th>\n",
       "      <th>length</th>\n",
       "      <th>pure_text</th>\n",
       "    </tr>\n",
       "  </thead>\n",
       "  <tbody>\n",
       "    <tr>\n",
       "      <th>0</th>\n",
       "      <td>127</td>\n",
       "      <td>{\"guid\":\"770a5bae-0e3f-4a6b-b924-bd87bd51a038\"...</td>\n",
       "      <td>5</td>\n",
       "      <td>Изменить пин-код Как изменить ПИН-код Зайдите ...</td>\n",
       "    </tr>\n",
       "    <tr>\n",
       "      <th>1</th>\n",
       "      <td>254</td>\n",
       "      <td>{\"guid\":\"64f4c9ef-647b-4e04-b4d4-02297e939388\"...</td>\n",
       "      <td>4</td>\n",
       "      <td>Пополнить «Стрелку» Как пополнить карту «Стрел...</td>\n",
       "    </tr>\n",
       "    <tr>\n",
       "      <th>2</th>\n",
       "      <td>865</td>\n",
       "      <td>{\"guid\":\"3482206b-d223-4aec-92ba-0150055cd68a\"...</td>\n",
       "      <td>8</td>\n",
       "      <td>Тинькофф Инвестиции 2.0 Тинькофф Инвестиции 2....</td>\n",
       "    </tr>\n",
       "    <tr>\n",
       "      <th>3</th>\n",
       "      <td>1491</td>\n",
       "      <td>{\"guid\":\"5f4a9215-01de-4777-b70f-a18899db8f1c\"...</td>\n",
       "      <td>8</td>\n",
       "      <td>Что делать на Faces &amp; Laces Выставка уличной к...</td>\n",
       "    </tr>\n",
       "    <tr>\n",
       "      <th>4</th>\n",
       "      <td>598</td>\n",
       "      <td>{\"guid\":\"ed8754bd-67be-4fa1-9289-5508d96f1fa4\"...</td>\n",
       "      <td>6</td>\n",
       "      <td>Необычные виды спорта Необычные виды спорта Ес...</td>\n",
       "    </tr>\n",
       "  </tbody>\n",
       "</table>\n",
       "</div>"
      ],
      "text/plain": [
       "   story_id                                         story_json  length  \\\n",
       "0       127  {\"guid\":\"770a5bae-0e3f-4a6b-b924-bd87bd51a038\"...       5   \n",
       "1       254  {\"guid\":\"64f4c9ef-647b-4e04-b4d4-02297e939388\"...       4   \n",
       "2       865  {\"guid\":\"3482206b-d223-4aec-92ba-0150055cd68a\"...       8   \n",
       "3      1491  {\"guid\":\"5f4a9215-01de-4777-b70f-a18899db8f1c\"...       8   \n",
       "4       598  {\"guid\":\"ed8754bd-67be-4fa1-9289-5508d96f1fa4\"...       6   \n",
       "\n",
       "                                           pure_text  \n",
       "0  Изменить пин-код Как изменить ПИН-код Зайдите ...  \n",
       "1  Пополнить «Стрелку» Как пополнить карту «Стрел...  \n",
       "2  Тинькофф Инвестиции 2.0 Тинькофф Инвестиции 2....  \n",
       "3  Что делать на Faces & Laces Выставка уличной к...  \n",
       "4  Необычные виды спорта Необычные виды спорта Ес...  "
      ]
     },
     "execution_count": 10,
     "metadata": {
      "tags": []
     },
     "output_type": "execute_result"
    }
   ],
   "source": [
    "stories['length'] = stories['story_json'].apply(get_story_length)\n",
    "stories['pure_text'] = stories['story_json'].apply(get_text)\n",
    "stories.head()"
   ]
  },
  {
   "cell_type": "code",
   "execution_count": 0,
   "metadata": {
    "colab": {},
    "colab_type": "code",
    "id": "lo1WRf5bY8XC"
   },
   "outputs": [],
   "source": [
    "def get_colors(story):\n",
    "    story_json = json.loads(story.replace('\\\\\\\\', '\\\\'))\n",
    "    res = []\n",
    "    res += get_recursively(story_json, 'hex')\n",
    "    if len(res):\n",
    "        return ' '.join(res)\n",
    "    return None"
   ]
  },
  {
   "cell_type": "code",
   "execution_count": 0,
   "metadata": {
    "colab": {
     "base_uri": "https://localhost:8080/",
     "height": 289
    },
    "colab_type": "code",
    "id": "726fi1R9Yo13",
    "outputId": "c4dce6ca-ccd6-4b35-d2db-05af0b4096fd"
   },
   "outputs": [
    {
     "data": {
      "text/html": [
       "<div>\n",
       "<style scoped>\n",
       "    .dataframe tbody tr th:only-of-type {\n",
       "        vertical-align: middle;\n",
       "    }\n",
       "\n",
       "    .dataframe tbody tr th {\n",
       "        vertical-align: top;\n",
       "    }\n",
       "\n",
       "    .dataframe thead th {\n",
       "        text-align: right;\n",
       "    }\n",
       "</style>\n",
       "<table border=\"1\" class=\"dataframe\">\n",
       "  <thead>\n",
       "    <tr style=\"text-align: right;\">\n",
       "      <th></th>\n",
       "      <th>story_id</th>\n",
       "      <th>length</th>\n",
       "      <th>pure_text</th>\n",
       "      <th>colors</th>\n",
       "    </tr>\n",
       "  </thead>\n",
       "  <tbody>\n",
       "    <tr>\n",
       "      <th>0</th>\n",
       "      <td>127</td>\n",
       "      <td>5</td>\n",
       "      <td>Изменить пин-код Как изменить ПИН-код Зайдите ...</td>\n",
       "      <td>#b8a1e0 #00bee0 #b8a1e0 #00bee0 #ffffff #fffff...</td>\n",
       "    </tr>\n",
       "    <tr>\n",
       "      <th>1</th>\n",
       "      <td>254</td>\n",
       "      <td>4</td>\n",
       "      <td>Пополнить «Стрелку» Как пополнить карту «Стрел...</td>\n",
       "      <td>#b8a1e0 #00bee0 #b8a1e0 #00bee0 #ffffff #fffff...</td>\n",
       "    </tr>\n",
       "    <tr>\n",
       "      <th>2</th>\n",
       "      <td>865</td>\n",
       "      <td>8</td>\n",
       "      <td>Тинькофф Инвестиции 2.0 Тинькофф Инвестиции 2....</td>\n",
       "      <td>#000000 #000000 #000000 #000000 #000000 #00000...</td>\n",
       "    </tr>\n",
       "    <tr>\n",
       "      <th>3</th>\n",
       "      <td>1491</td>\n",
       "      <td>8</td>\n",
       "      <td>Что делать на Faces &amp; Laces Выставка уличной к...</td>\n",
       "      <td>#000000 #000000 #000000 #000000 #000000 #00000...</td>\n",
       "    </tr>\n",
       "    <tr>\n",
       "      <th>4</th>\n",
       "      <td>598</td>\n",
       "      <td>6</td>\n",
       "      <td>Необычные виды спорта Необычные виды спорта Ес...</td>\n",
       "      <td>#000000 #000000 #000000 #000000 #000000 #fffff...</td>\n",
       "    </tr>\n",
       "  </tbody>\n",
       "</table>\n",
       "</div>"
      ],
      "text/plain": [
       "   story_id  length                                          pure_text  \\\n",
       "0       127       5  Изменить пин-код Как изменить ПИН-код Зайдите ...   \n",
       "1       254       4  Пополнить «Стрелку» Как пополнить карту «Стрел...   \n",
       "2       865       8  Тинькофф Инвестиции 2.0 Тинькофф Инвестиции 2....   \n",
       "3      1491       8  Что делать на Faces & Laces Выставка уличной к...   \n",
       "4       598       6  Необычные виды спорта Необычные виды спорта Ес...   \n",
       "\n",
       "                                              colors  \n",
       "0  #b8a1e0 #00bee0 #b8a1e0 #00bee0 #ffffff #fffff...  \n",
       "1  #b8a1e0 #00bee0 #b8a1e0 #00bee0 #ffffff #fffff...  \n",
       "2  #000000 #000000 #000000 #000000 #000000 #00000...  \n",
       "3  #000000 #000000 #000000 #000000 #000000 #00000...  \n",
       "4  #000000 #000000 #000000 #000000 #000000 #fffff...  "
      ]
     },
     "execution_count": 12,
     "metadata": {
      "tags": []
     },
     "output_type": "execute_result"
    }
   ],
   "source": [
    "stories['colors'] = stories['story_json'].apply(get_colors)\n",
    "stories_preprocessed = stories.drop(columns=['story_json'])\n",
    "stories_preprocessed.head()"
   ]
  },
  {
   "cell_type": "markdown",
   "metadata": {
    "colab_type": "text",
    "id": "4oHus4r2gwG8"
   },
   "source": [
    "#### Тематическое моделирование"
   ]
  },
  {
   "cell_type": "markdown",
   "metadata": {},
   "source": [
    "Лемматизация текста:"
   ]
  },
  {
   "cell_type": "code",
   "execution_count": 0,
   "metadata": {
    "colab": {},
    "colab_type": "code",
    "id": "Ogyn2M2Dgun5"
   },
   "outputs": [],
   "source": [
    "mystem = Mystem()\n",
    "\n",
    "def lemmatizate(pure_text):\n",
    "    lemmas = mystem.lemmatize(pure_text)\n",
    "    return [lemma for lemma in lemmas if lemma.isalpha()]"
   ]
  },
  {
   "cell_type": "code",
   "execution_count": 0,
   "metadata": {
    "colab": {},
    "colab_type": "code",
    "id": "lutmQlUMg2E0",
    "outputId": "60fe09ac-d45e-46e2-b2fc-d50c1e7606b1"
   },
   "outputs": [
    {
     "data": {
      "application/vnd.jupyter.widget-view+json": {
       "model_id": "e870026c351e449d99b19caae0e7dce6",
       "version_major": 2,
       "version_minor": 0
      },
      "text/plain": [
       "HBox(children=(IntProgress(value=0, max=959), HTML(value='')))"
      ]
     },
     "metadata": {
      "tags": []
     },
     "output_type": "display_data"
    },
    {
     "name": "stdout",
     "output_type": "stream",
     "text": [
      "\n"
     ]
    }
   ],
   "source": [
    "from tqdm import tqdm_notebook as tqdm\n",
    "\n",
    "result = []\n",
    "\n",
    "with tqdm(total=stories.shape[0]) as pbar:\n",
    "    for text in stories.pure_text.values:\n",
    "        result.append(lemmatizate(text))\n",
    "        pbar.update(1)"
   ]
  },
  {
   "cell_type": "code",
   "execution_count": 0,
   "metadata": {
    "colab": {},
    "colab_type": "code",
    "id": "8XxdakQ-g9s3"
   },
   "outputs": [],
   "source": [
    "stories_preprocessed['cleaned_text'] = np.array(result)"
   ]
  },
  {
   "cell_type": "code",
   "execution_count": 0,
   "metadata": {
    "colab": {},
    "colab_type": "code",
    "id": "jx7QLMTShHrz"
   },
   "outputs": [],
   "source": [
    "vowbal_wabbit = []\n",
    "for (index, value) in zip(stories_preprocessed.index, stories_preprocessed.cleaned_text.values):\n",
    "    vowbal_wabbit.append('{} |text {}{}'.format(index,\" \".join(value),'\\n'))"
   ]
  },
  {
   "cell_type": "markdown",
   "metadata": {},
   "source": [
    "Обучение модели BigARTM на полученных лемах. Выбранные 14 тем были получены экспериментальным подходом (перебирались количества тем от 10 до 30 и искались те модели, где было наименьшее число историй с одной \"мусорной\" темой):"
   ]
  },
  {
   "cell_type": "code",
   "execution_count": 0,
   "metadata": {
    "colab": {},
    "colab_type": "code",
    "id": "HKd6r2BXhJVT",
    "outputId": "1f72e491-8f85-46cb-cabc-4bdd55a3a04f"
   },
   "outputs": [
    {
     "name": "stdout",
     "output_type": "stream",
     "text": [
      "Количество тем: 14\n",
      "844.42224\n"
     ]
    },
    {
     "data": {
      "text/plain": [
       "Text(105.0, 0.5, 'Theme')"
      ]
     },
     "execution_count": 17,
     "metadata": {
      "tags": []
     },
     "output_type": "execute_result"
    },
    {
     "data": {
      "image/png": "[encoded data removed]",
      "text/plain": [
       "<Figure size 1008x720 with 2 Axes>"
      ]
     },
     "metadata": {
      "needs_background": "light",
      "tags": []
     },
     "output_type": "display_data"
    }
   ],
   "source": [
    "T = 14\n",
    "BATCH_FOLDER = \"stories_batches\"\n",
    "batch_vectorizer = artm.BatchVectorizer(data_path=\"vowbal_wabbit_stories.txt\", data_format=\"vowpal_wabbit\", \n",
    "                                        target_folder=BATCH_FOLDER, batch_size=100)\n",
    "topic_names=[\"sbj\"+str(i) for i in range(T-1)]+[\"bcg\"]\n",
    "\n",
    "\n",
    "model_artm = artm.ARTM(num_topics=T, topic_names=topic_names, class_ids={\"text\":1})\n",
    "dictionary = artm.Dictionary()\n",
    "dictionary.gather(data_path=BATCH_FOLDER)\n",
    "model_artm.seed = 1\n",
    "model_artm.initialize(dictionary=dictionary)\n",
    "model_artm.cache_theta = True\n",
    "\n",
    "model_artm.scores.add(artm.TopTokensScore(name=\"top_words_text\", num_tokens=15, class_id=\"text\"))\n",
    "model_artm.regularizers.add(artm.SmoothSparsePhiRegularizer(name=\"SmoothPhi\", \n",
    "                                                            tau=1e5, \n",
    "                                                            dictionary=dictionary, \n",
    "                                                            class_ids={\"text\":1}, \n",
    "                                                            topic_names=\"bcg\"))\n",
    "model_artm.fit_offline(num_collection_passes=30, batch_vectorizer=batch_vectorizer)\n",
    "\n",
    "model_artm.regularizers.add(artm.SmoothSparsePhiRegularizer(name=\"SparsePhi\", \n",
    "                                                            tau=-1e5, \n",
    "                                                            dictionary=dictionary, \n",
    "                                                            class_ids={\"text\":1}, \n",
    "                                                            topic_names=topic_names[:-1]))\n",
    "model_artm.fit_offline(num_collection_passes=15, batch_vectorizer=batch_vectorizer)\n",
    "\n",
    "print('Количество тем: {}'.format(T))\n",
    "theta = model_artm.get_theta()\n",
    "theta_arr = theta.to_numpy()\n",
    "print(np.sum(theta_arr[-1,:]))\n",
    "fig, axes = plt.subplots(1, 1, figsize=(T, 10), sharey=True)\n",
    "sns.heatmap(theta_arr[:,:100].reshape((T,100)));\n",
    "axes.set_title(\"Heatmap for {} themes\".format(T))\n",
    "plt.ylabel('Theme')"
   ]
  },
  {
   "cell_type": "code",
   "execution_count": 0,
   "metadata": {
    "colab": {},
    "colab_type": "code",
    "id": "6wkdA3X7jLWt",
    "outputId": "4e7226f4-2478-4cc1-d119-60fbd87bc8e3"
   },
   "outputs": [
    {
     "data": {
      "text/html": [
       "<div>\n",
       "<style scoped>\n",
       "    .dataframe tbody tr th:only-of-type {\n",
       "        vertical-align: middle;\n",
       "    }\n",
       "\n",
       "    .dataframe tbody tr th {\n",
       "        vertical-align: top;\n",
       "    }\n",
       "\n",
       "    .dataframe thead th {\n",
       "        text-align: right;\n",
       "    }\n",
       "</style>\n",
       "<table border=\"1\" class=\"dataframe\">\n",
       "  <thead>\n",
       "    <tr style=\"text-align: right;\">\n",
       "      <th></th>\n",
       "      <th>sbj0</th>\n",
       "      <th>sbj1</th>\n",
       "      <th>sbj2</th>\n",
       "      <th>sbj3</th>\n",
       "      <th>sbj4</th>\n",
       "      <th>sbj5</th>\n",
       "      <th>sbj6</th>\n",
       "      <th>sbj7</th>\n",
       "      <th>sbj8</th>\n",
       "      <th>sbj9</th>\n",
       "      <th>sbj10</th>\n",
       "      <th>sbj11</th>\n",
       "      <th>sbj12</th>\n",
       "      <th>bcg</th>\n",
       "    </tr>\n",
       "  </thead>\n",
       "  <tbody>\n",
       "    <tr>\n",
       "      <th>0</th>\n",
       "      <td>0.0</td>\n",
       "      <td>0.000000</td>\n",
       "      <td>0.223011</td>\n",
       "      <td>0.0</td>\n",
       "      <td>0.0</td>\n",
       "      <td>0.0</td>\n",
       "      <td>0.0</td>\n",
       "      <td>0.0</td>\n",
       "      <td>0.000000</td>\n",
       "      <td>0.000000</td>\n",
       "      <td>0.0</td>\n",
       "      <td>0.0</td>\n",
       "      <td>0.0</td>\n",
       "      <td>0.776989</td>\n",
       "    </tr>\n",
       "    <tr>\n",
       "      <th>1</th>\n",
       "      <td>0.0</td>\n",
       "      <td>0.167564</td>\n",
       "      <td>0.000000</td>\n",
       "      <td>0.0</td>\n",
       "      <td>0.0</td>\n",
       "      <td>0.0</td>\n",
       "      <td>0.0</td>\n",
       "      <td>0.0</td>\n",
       "      <td>0.000000</td>\n",
       "      <td>0.000000</td>\n",
       "      <td>0.0</td>\n",
       "      <td>0.0</td>\n",
       "      <td>0.0</td>\n",
       "      <td>0.832436</td>\n",
       "    </tr>\n",
       "    <tr>\n",
       "      <th>2</th>\n",
       "      <td>0.0</td>\n",
       "      <td>0.153474</td>\n",
       "      <td>0.000000</td>\n",
       "      <td>0.0</td>\n",
       "      <td>0.0</td>\n",
       "      <td>0.0</td>\n",
       "      <td>0.0</td>\n",
       "      <td>0.0</td>\n",
       "      <td>0.000000</td>\n",
       "      <td>0.000000</td>\n",
       "      <td>0.0</td>\n",
       "      <td>0.0</td>\n",
       "      <td>0.0</td>\n",
       "      <td>0.846526</td>\n",
       "    </tr>\n",
       "    <tr>\n",
       "      <th>3</th>\n",
       "      <td>0.0</td>\n",
       "      <td>0.000000</td>\n",
       "      <td>0.000000</td>\n",
       "      <td>0.0</td>\n",
       "      <td>0.0</td>\n",
       "      <td>0.0</td>\n",
       "      <td>0.0</td>\n",
       "      <td>0.0</td>\n",
       "      <td>0.247015</td>\n",
       "      <td>0.000000</td>\n",
       "      <td>0.0</td>\n",
       "      <td>0.0</td>\n",
       "      <td>0.0</td>\n",
       "      <td>0.752985</td>\n",
       "    </tr>\n",
       "    <tr>\n",
       "      <th>4</th>\n",
       "      <td>0.0</td>\n",
       "      <td>0.000000</td>\n",
       "      <td>0.000000</td>\n",
       "      <td>0.0</td>\n",
       "      <td>0.0</td>\n",
       "      <td>0.0</td>\n",
       "      <td>0.0</td>\n",
       "      <td>0.0</td>\n",
       "      <td>0.000000</td>\n",
       "      <td>0.169333</td>\n",
       "      <td>0.0</td>\n",
       "      <td>0.0</td>\n",
       "      <td>0.0</td>\n",
       "      <td>0.830667</td>\n",
       "    </tr>\n",
       "  </tbody>\n",
       "</table>\n",
       "</div>"
      ],
      "text/plain": [
       "   sbj0      sbj1      sbj2  sbj3  sbj4  sbj5  sbj6  sbj7      sbj8      sbj9  \\\n",
       "0   0.0  0.000000  0.223011   0.0   0.0   0.0   0.0   0.0  0.000000  0.000000   \n",
       "1   0.0  0.167564  0.000000   0.0   0.0   0.0   0.0   0.0  0.000000  0.000000   \n",
       "2   0.0  0.153474  0.000000   0.0   0.0   0.0   0.0   0.0  0.000000  0.000000   \n",
       "3   0.0  0.000000  0.000000   0.0   0.0   0.0   0.0   0.0  0.247015  0.000000   \n",
       "4   0.0  0.000000  0.000000   0.0   0.0   0.0   0.0   0.0  0.000000  0.169333   \n",
       "\n",
       "   sbj10  sbj11  sbj12       bcg  \n",
       "0    0.0    0.0    0.0  0.776989  \n",
       "1    0.0    0.0    0.0  0.832436  \n",
       "2    0.0    0.0    0.0  0.846526  \n",
       "3    0.0    0.0    0.0  0.752985  \n",
       "4    0.0    0.0    0.0  0.830667  "
      ]
     },
     "execution_count": 18,
     "metadata": {
      "tags": []
     },
     "output_type": "execute_result"
    }
   ],
   "source": [
    "theta = model_artm.get_theta()\n",
    "stories_themes = pd.DataFrame(theta.to_numpy().T, columns=topic_names)\n",
    "stories_themes.head()"
   ]
  },
  {
   "cell_type": "markdown",
   "metadata": {
    "colab_type": "text",
    "id": "78eolDnTjaJ-"
   },
   "source": [
    "#### Обработка цветовой гаммы"
   ]
  },
  {
   "cell_type": "markdown",
   "metadata": {},
   "source": [
    "После нахождения массива цветов, используемых в историях, кодируем их в отдельные цветовые оттенки (используем цветовую модель HSL), а потом отбираем первые два цвета по популярности:"
   ]
  },
  {
   "cell_type": "code",
   "execution_count": 0,
   "metadata": {
    "colab": {},
    "colab_type": "code",
    "id": "B4UB1DaiZBCa"
   },
   "outputs": [],
   "source": [
    "color_bins = np.array([0, 45, 90, 135, 165, 195, 225, 270, 300, 345])\n",
    "color_bins = color_bins/360\n",
    "color_labels = ['Red', 'Yellow', 'Green', 'Cyan', 'Blue', 'Dark blue', 'Violet', 'Pink', 'Red']\n",
    "\n",
    "def choose_primary_color(colors):\n",
    "    color_labels = []\n",
    "    for color in colors.split(' '):\n",
    "        color_labels.append(color_pick(color))\n",
    "        \n",
    "    color_array = np.array(color_labels)\n",
    "    \n",
    "    counter = Counter(color_array[color_array != 'NI'])\n",
    "    if len(counter) == 0:\n",
    "        return 'NI'\n",
    "    return counter.most_common(1)[0][0]\n",
    "\n",
    "def color_pick(colour, alpha=0.1):\n",
    "    c = Color(colour)\n",
    "    if c.get_luminance() > 1-alpha or c.get_luminance() < alpha or \\\n",
    "    c.get_saturation() < alpha:\n",
    "        return \"NI\" #Not Interested\n",
    "    hue = c.get_hue()\n",
    "    for i in np.arange(len(color_bins)):\n",
    "        if hue < color_bins[i]:\n",
    "            return color_labels[i-1]\n",
    "    return 'Red'\n",
    "\n",
    "def choose_secondary_color(colors):\n",
    "    color_labels = []\n",
    "    for color in colors.split(' '):\n",
    "        color_labels.append(color_pick(color))\n",
    "        \n",
    "    color_array = np.array(color_labels)\n",
    "    \n",
    "    counter = Counter(color_array[color_array != 'NI'])\n",
    "    if len(counter) < 2:\n",
    "        return 'NI'\n",
    "    return counter.most_common(2)[1][0]\n"
   ]
  },
  {
   "cell_type": "code",
   "execution_count": 0,
   "metadata": {
    "colab": {
     "base_uri": "https://localhost:8080/",
     "height": 289
    },
    "colab_type": "code",
    "id": "V7L_VdodZO4U",
    "outputId": "d9cbd8f9-814d-4af4-f870-f429f17469f3"
   },
   "outputs": [
    {
     "data": {
      "text/html": [
       "<div>\n",
       "<style scoped>\n",
       "    .dataframe tbody tr th:only-of-type {\n",
       "        vertical-align: middle;\n",
       "    }\n",
       "\n",
       "    .dataframe tbody tr th {\n",
       "        vertical-align: top;\n",
       "    }\n",
       "\n",
       "    .dataframe thead th {\n",
       "        text-align: right;\n",
       "    }\n",
       "</style>\n",
       "<table border=\"1\" class=\"dataframe\">\n",
       "  <thead>\n",
       "    <tr style=\"text-align: right;\">\n",
       "      <th></th>\n",
       "      <th>story_id</th>\n",
       "      <th>length</th>\n",
       "      <th>pure_text</th>\n",
       "      <th>colors</th>\n",
       "      <th>cleaned_text</th>\n",
       "      <th>primary_color</th>\n",
       "      <th>secondary_color</th>\n",
       "    </tr>\n",
       "  </thead>\n",
       "  <tbody>\n",
       "    <tr>\n",
       "      <th>0</th>\n",
       "      <td>127</td>\n",
       "      <td>5</td>\n",
       "      <td>Изменить пин-код Как изменить ПИН-код Зайдите ...</td>\n",
       "      <td>#b8a1e0 #00bee0 #b8a1e0 #00bee0 #ffffff #fffff...</td>\n",
       "      <td>[изменять, пин, код, как, изменять, пин, код, ...</td>\n",
       "      <td>Violet</td>\n",
       "      <td>Blue</td>\n",
       "    </tr>\n",
       "    <tr>\n",
       "      <th>1</th>\n",
       "      <td>254</td>\n",
       "      <td>4</td>\n",
       "      <td>Пополнить «Стрелку» Как пополнить карту «Стрел...</td>\n",
       "      <td>#b8a1e0 #00bee0 #b8a1e0 #00bee0 #ffffff #fffff...</td>\n",
       "      <td>[пополнять, стрелка, как, пополнять, карта, ст...</td>\n",
       "      <td>Violet</td>\n",
       "      <td>Blue</td>\n",
       "    </tr>\n",
       "    <tr>\n",
       "      <th>2</th>\n",
       "      <td>865</td>\n",
       "      <td>8</td>\n",
       "      <td>Тинькофф Инвестиции 2.0 Тинькофф Инвестиции 2....</td>\n",
       "      <td>#000000 #000000 #000000 #000000 #000000 #00000...</td>\n",
       "      <td>[тинькофф, инвестиция, тинькофф, инвестиция, у...</td>\n",
       "      <td>Yellow</td>\n",
       "      <td>NI</td>\n",
       "    </tr>\n",
       "    <tr>\n",
       "      <th>3</th>\n",
       "      <td>1491</td>\n",
       "      <td>8</td>\n",
       "      <td>Что делать на Faces &amp; Laces Выставка уличной к...</td>\n",
       "      <td>#000000 #000000 #000000 #000000 #000000 #00000...</td>\n",
       "      <td>[что, делать, на, Faces, Laces, выставка, улич...</td>\n",
       "      <td>NI</td>\n",
       "      <td>NI</td>\n",
       "    </tr>\n",
       "    <tr>\n",
       "      <th>4</th>\n",
       "      <td>598</td>\n",
       "      <td>6</td>\n",
       "      <td>Необычные виды спорта Необычные виды спорта Ес...</td>\n",
       "      <td>#000000 #000000 #000000 #000000 #000000 #fffff...</td>\n",
       "      <td>[необычный, вид, спорт, необычный, вид, спорт,...</td>\n",
       "      <td>Yellow</td>\n",
       "      <td>NI</td>\n",
       "    </tr>\n",
       "  </tbody>\n",
       "</table>\n",
       "</div>"
      ],
      "text/plain": [
       "   story_id  length                                          pure_text  \\\n",
       "0       127       5  Изменить пин-код Как изменить ПИН-код Зайдите ...   \n",
       "1       254       4  Пополнить «Стрелку» Как пополнить карту «Стрел...   \n",
       "2       865       8  Тинькофф Инвестиции 2.0 Тинькофф Инвестиции 2....   \n",
       "3      1491       8  Что делать на Faces & Laces Выставка уличной к...   \n",
       "4       598       6  Необычные виды спорта Необычные виды спорта Ес...   \n",
       "\n",
       "                                              colors  \\\n",
       "0  #b8a1e0 #00bee0 #b8a1e0 #00bee0 #ffffff #fffff...   \n",
       "1  #b8a1e0 #00bee0 #b8a1e0 #00bee0 #ffffff #fffff...   \n",
       "2  #000000 #000000 #000000 #000000 #000000 #00000...   \n",
       "3  #000000 #000000 #000000 #000000 #000000 #00000...   \n",
       "4  #000000 #000000 #000000 #000000 #000000 #fffff...   \n",
       "\n",
       "                                        cleaned_text primary_color  \\\n",
       "0  [изменять, пин, код, как, изменять, пин, код, ...        Violet   \n",
       "1  [пополнять, стрелка, как, пополнять, карта, ст...        Violet   \n",
       "2  [тинькофф, инвестиция, тинькофф, инвестиция, у...        Yellow   \n",
       "3  [что, делать, на, Faces, Laces, выставка, улич...            NI   \n",
       "4  [необычный, вид, спорт, необычный, вид, спорт,...        Yellow   \n",
       "\n",
       "  secondary_color  \n",
       "0            Blue  \n",
       "1            Blue  \n",
       "2              NI  \n",
       "3              NI  \n",
       "4              NI  "
      ]
     },
     "execution_count": 20,
     "metadata": {
      "tags": []
     },
     "output_type": "execute_result"
    }
   ],
   "source": [
    "exclude_features = ['pure_text', 'colors', 'story_json']\n",
    "stories_preprocessed['primary_color'] = stories_preprocessed.colors.apply(choose_primary_color)\n",
    "stories_preprocessed['secondary_color'] = stories_preprocessed.colors.apply(choose_secondary_color)\n",
    "\n",
    "stories_preprocessed.head()"
   ]
  },
  {
   "cell_type": "code",
   "execution_count": 0,
   "metadata": {
    "colab": {
     "base_uri": "https://localhost:8080/",
     "height": 395
    },
    "colab_type": "code",
    "id": "TL3vnHuPdF8X",
    "outputId": "c6f2f1b8-d974-4c32-acb7-a936b9f1d835"
   },
   "outputs": [
    {
     "data": {
      "text/plain": [
       "Index(['story_id', 'length', 'primary_Blue', 'primary_Dark blue',\n",
       "       'primary_Green', 'primary_NI', 'primary_Red', 'primary_Violet',\n",
       "       'primary_Yellow', 'secondary_Blue', 'secondary_Cyan',\n",
       "       'secondary_Dark blue', 'secondary_Green', 'secondary_NI',\n",
       "       'secondary_Pink', 'secondary_Red', 'secondary_Violet',\n",
       "       'secondary_Yellow', 'sbj0', 'sbj1', 'sbj2', 'sbj3', 'sbj4', 'sbj5',\n",
       "       'sbj6', 'sbj7', 'sbj8', 'sbj9', 'sbj10', 'sbj11', 'sbj12', 'bcg'],\n",
       "      dtype='object')"
      ]
     },
     "execution_count": 21,
     "metadata": {
      "tags": []
     },
     "output_type": "execute_result"
    }
   ],
   "source": [
    "primary_color_ohe = pd.get_dummies(stories_preprocessed.primary_color).add_prefix('primary_')\n",
    "secondary_color_ohe = pd.get_dummies(stories_preprocessed.secondary_color).add_prefix('secondary_')\n",
    "\n",
    "colors_ohe = pd.merge(primary_color_ohe, secondary_color_ohe, left_index=True, right_index=True)\n",
    "stories_colors = stories.join(colors_ohe).drop(columns=exclude_features)\n",
    "stories_complete = stories_colors.join(stories_themes)\n",
    "\n",
    "stories_complete.columns"
   ]
  },
  {
   "cell_type": "code",
   "execution_count": 0,
   "metadata": {
    "colab": {},
    "colab_type": "code",
    "id": "ZGGxFPjKdz2y"
   },
   "outputs": [],
   "source": [
    "stories_complete.to_csv('stories_preprocessed.csv', index=False)"
   ]
  },
  {
   "cell_type": "markdown",
   "metadata": {
    "colab_type": "text",
    "id": "K_Aw2eoslFHa"
   },
   "source": [
    "### Файл transactions.csv (транзакции пользователей за 3 месяца)"
   ]
  },
  {
   "cell_type": "code",
   "execution_count": 0,
   "metadata": {
    "colab": {},
    "colab_type": "code",
    "id": "-o9f8p6Mqckp",
    "outputId": "c5b145c7-3142-4544-995b-47b56b8d74c0"
   },
   "outputs": [
    {
     "data": {
      "text/html": [
       "<div>\n",
       "<style scoped>\n",
       "    .dataframe tbody tr th:only-of-type {\n",
       "        vertical-align: middle;\n",
       "    }\n",
       "\n",
       "    .dataframe tbody tr th {\n",
       "        vertical-align: top;\n",
       "    }\n",
       "\n",
       "    .dataframe thead th {\n",
       "        text-align: right;\n",
       "    }\n",
       "</style>\n",
       "<table border=\"1\" class=\"dataframe\">\n",
       "  <thead>\n",
       "    <tr style=\"text-align: right;\">\n",
       "      <th></th>\n",
       "      <th>customer_id</th>\n",
       "      <th>transaction_month</th>\n",
       "      <th>transaction_day</th>\n",
       "      <th>transaction_amt</th>\n",
       "      <th>merchant_id</th>\n",
       "      <th>merchant_mcc</th>\n",
       "      <th>mcc_group</th>\n",
       "    </tr>\n",
       "  </thead>\n",
       "  <tbody>\n",
       "    <tr>\n",
       "      <th>0</th>\n",
       "      <td>855115</td>\n",
       "      <td>7</td>\n",
       "      <td>3</td>\n",
       "      <td>1500</td>\n",
       "      <td>4554547</td>\n",
       "      <td>5411</td>\n",
       "      <td>Розничные магазины</td>\n",
       "    </tr>\n",
       "    <tr>\n",
       "      <th>1</th>\n",
       "      <td>997036</td>\n",
       "      <td>6</td>\n",
       "      <td>6</td>\n",
       "      <td>0</td>\n",
       "      <td>1657528</td>\n",
       "      <td>5411</td>\n",
       "      <td>Розничные магазины</td>\n",
       "    </tr>\n",
       "    <tr>\n",
       "      <th>2</th>\n",
       "      <td>398237</td>\n",
       "      <td>5</td>\n",
       "      <td>24</td>\n",
       "      <td>2500</td>\n",
       "      <td>26375569</td>\n",
       "      <td>5813</td>\n",
       "      <td>Различные магазины</td>\n",
       "    </tr>\n",
       "    <tr>\n",
       "      <th>3</th>\n",
       "      <td>997036</td>\n",
       "      <td>6</td>\n",
       "      <td>2</td>\n",
       "      <td>0</td>\n",
       "      <td>16304402</td>\n",
       "      <td>5411</td>\n",
       "      <td>Розничные магазины</td>\n",
       "    </tr>\n",
       "    <tr>\n",
       "      <th>4</th>\n",
       "      <td>291636</td>\n",
       "      <td>7</td>\n",
       "      <td>25</td>\n",
       "      <td>0</td>\n",
       "      <td>1259505</td>\n",
       "      <td>5411</td>\n",
       "      <td>Розничные магазины</td>\n",
       "    </tr>\n",
       "  </tbody>\n",
       "</table>\n",
       "</div>"
      ],
      "text/plain": [
       "   customer_id  transaction_month  transaction_day  transaction_amt  \\\n",
       "0       855115                  7                3             1500   \n",
       "1       997036                  6                6                0   \n",
       "2       398237                  5               24             2500   \n",
       "3       997036                  6                2                0   \n",
       "4       291636                  7               25                0   \n",
       "\n",
       "   merchant_id  merchant_mcc           mcc_group  \n",
       "0      4554547          5411  Розничные магазины  \n",
       "1      1657528          5411  Розничные магазины  \n",
       "2     26375569          5813  Различные магазины  \n",
       "3     16304402          5411  Розничные магазины  \n",
       "4      1259505          5411  Розничные магазины  "
      ]
     },
     "execution_count": 23,
     "metadata": {
      "tags": []
     },
     "output_type": "execute_result"
    }
   ],
   "source": [
    "data = pd.read_csv('cleaned_transactions.csv')\n",
    "data.head()"
   ]
  },
  {
   "cell_type": "markdown",
   "metadata": {},
   "source": [
    "Были взяты исходные MCC-коды с сайта (https://mcc-codes.ru/code) и использованы в таблице для получения групп магазинов."
   ]
  },
  {
   "cell_type": "code",
   "execution_count": 0,
   "metadata": {
    "colab": {},
    "colab_type": "code",
    "collapsed": true,
    "id": "M0xjCyGurcGM",
    "outputId": "6918a1a9-71f1-4044-9724-49a0dce5ed37"
   },
   "outputs": [
    {
     "name": "stderr",
     "output_type": "stream",
     "text": [
      "C:\\Users\\Nikita\\Anaconda3\\lib\\site-packages\\defusedxml\\ElementTree.py:68: DeprecationWarning: The html argument of XMLParser() is deprecated\n",
      "  _XMLParser.__init__(self, html, target, encoding)\n"
     ]
    }
   ],
   "source": [
    "mcc_codes = pd.read_excel(\"MCC_codes.xlsx\", index_col ='mcc')\n",
    "mcc = mcc_codes.group.to_dict()\n",
    "data['mcc_group'] = data['merchant_mcc'].map(mcc)"
   ]
  },
  {
   "cell_type": "code",
   "execution_count": 0,
   "metadata": {
    "colab": {},
    "colab_type": "code",
    "id": "3t7Ksn6aqeE9",
    "outputId": "0cc2e41c-4bc7-44c2-9dc7-80e68fb8ff25"
   },
   "outputs": [
    {
     "data": {
      "text/html": [
       "<div>\n",
       "<style scoped>\n",
       "    .dataframe tbody tr th:only-of-type {\n",
       "        vertical-align: middle;\n",
       "    }\n",
       "\n",
       "    .dataframe tbody tr th {\n",
       "        vertical-align: top;\n",
       "    }\n",
       "\n",
       "    .dataframe thead th {\n",
       "        text-align: right;\n",
       "    }\n",
       "</style>\n",
       "<table border=\"1\" class=\"dataframe\">\n",
       "  <thead>\n",
       "    <tr style=\"text-align: right;\">\n",
       "      <th></th>\n",
       "      <th>customer_id</th>\n",
       "      <th>transaction_month</th>\n",
       "      <th>transaction_day</th>\n",
       "      <th>merchant_id</th>\n",
       "      <th>merchant_mcc</th>\n",
       "      <th>mcc_group</th>\n",
       "      <th>transaction_normalized</th>\n",
       "    </tr>\n",
       "  </thead>\n",
       "  <tbody>\n",
       "    <tr>\n",
       "      <th>0</th>\n",
       "      <td>855115</td>\n",
       "      <td>7</td>\n",
       "      <td>3</td>\n",
       "      <td>4554547</td>\n",
       "      <td>5411</td>\n",
       "      <td>Розничные магазины</td>\n",
       "      <td>0.004348</td>\n",
       "    </tr>\n",
       "    <tr>\n",
       "      <th>1</th>\n",
       "      <td>997036</td>\n",
       "      <td>6</td>\n",
       "      <td>6</td>\n",
       "      <td>1657528</td>\n",
       "      <td>5411</td>\n",
       "      <td>Розничные магазины</td>\n",
       "      <td>0.000000</td>\n",
       "    </tr>\n",
       "    <tr>\n",
       "      <th>2</th>\n",
       "      <td>398237</td>\n",
       "      <td>5</td>\n",
       "      <td>24</td>\n",
       "      <td>26375569</td>\n",
       "      <td>5813</td>\n",
       "      <td>Различные магазины</td>\n",
       "      <td>0.002019</td>\n",
       "    </tr>\n",
       "    <tr>\n",
       "      <th>3</th>\n",
       "      <td>997036</td>\n",
       "      <td>6</td>\n",
       "      <td>2</td>\n",
       "      <td>16304402</td>\n",
       "      <td>5411</td>\n",
       "      <td>Розничные магазины</td>\n",
       "      <td>0.000000</td>\n",
       "    </tr>\n",
       "    <tr>\n",
       "      <th>4</th>\n",
       "      <td>291636</td>\n",
       "      <td>7</td>\n",
       "      <td>25</td>\n",
       "      <td>1259505</td>\n",
       "      <td>5411</td>\n",
       "      <td>Розничные магазины</td>\n",
       "      <td>0.000000</td>\n",
       "    </tr>\n",
       "  </tbody>\n",
       "</table>\n",
       "</div>"
      ],
      "text/plain": [
       "   customer_id  transaction_month  transaction_day  merchant_id  merchant_mcc  \\\n",
       "0       855115                  7                3      4554547          5411   \n",
       "1       997036                  6                6      1657528          5411   \n",
       "2       398237                  5               24     26375569          5813   \n",
       "3       997036                  6                2     16304402          5411   \n",
       "4       291636                  7               25      1259505          5411   \n",
       "\n",
       "            mcc_group  transaction_normalized  \n",
       "0  Розничные магазины                0.004348  \n",
       "1  Розничные магазины                0.000000  \n",
       "2  Различные магазины                0.002019  \n",
       "3  Розничные магазины                0.000000  \n",
       "4  Розничные магазины                0.000000  "
      ]
     },
     "execution_count": 25,
     "metadata": {
      "tags": []
     },
     "output_type": "execute_result"
    }
   ],
   "source": [
    "data_amt = data.groupby('mcc_group').transform(lambda x: x / x.max())\n",
    "data['transaction_normalized'] = data_amt['transaction_amt']\n",
    "data.drop(columns=['transaction_amt'], inplace=True)\n",
    "data.head()"
   ]
  },
  {
   "cell_type": "code",
   "execution_count": 0,
   "metadata": {
    "colab": {},
    "colab_type": "code",
    "id": "uvV2tMihqjxX",
    "outputId": "d8d930ab-f1ff-4be4-9af3-a3a13c0a1a3a"
   },
   "outputs": [
    {
     "data": {
      "text/html": [
       "<div>\n",
       "<style scoped>\n",
       "    .dataframe tbody tr th:only-of-type {\n",
       "        vertical-align: middle;\n",
       "    }\n",
       "\n",
       "    .dataframe tbody tr th {\n",
       "        vertical-align: top;\n",
       "    }\n",
       "\n",
       "    .dataframe thead th {\n",
       "        text-align: right;\n",
       "    }\n",
       "</style>\n",
       "<table border=\"1\" class=\"dataframe\">\n",
       "  <thead>\n",
       "    <tr style=\"text-align: right;\">\n",
       "      <th>mcc_group</th>\n",
       "      <th>Авиалинии, авиакомпании_amt</th>\n",
       "      <th>Автомобили и транспортные средства_amt</th>\n",
       "      <th>Аренда автомобилей_amt</th>\n",
       "      <th>Бизнес услуги_amt</th>\n",
       "      <th>Государственные услуги_amt</th>\n",
       "      <th>Коммунальные и кабельные услуги_amt</th>\n",
       "      <th>Контрактные услуги_amt</th>\n",
       "      <th>Личные услуги_amt</th>\n",
       "      <th>Магазины одежды_amt</th>\n",
       "      <th>Оптовые поставщики и производители_amt</th>\n",
       "      <th>Отели и мотели_amt</th>\n",
       "      <th>Поставщик услуг_amt</th>\n",
       "      <th>Продажи по почте/ телефону_amt</th>\n",
       "      <th>Профессиональные услуги_amt</th>\n",
       "      <th>Развлечения_amt</th>\n",
       "      <th>Различные магазины_amt</th>\n",
       "      <th>Ремонтные услуги_amt</th>\n",
       "      <th>Розничные магазины_amt</th>\n",
       "      <th>Транспорт_amt</th>\n",
       "      <th>Членские организации_amt</th>\n",
       "    </tr>\n",
       "    <tr>\n",
       "      <th>customer_id</th>\n",
       "      <th></th>\n",
       "      <th></th>\n",
       "      <th></th>\n",
       "      <th></th>\n",
       "      <th></th>\n",
       "      <th></th>\n",
       "      <th></th>\n",
       "      <th></th>\n",
       "      <th></th>\n",
       "      <th></th>\n",
       "      <th></th>\n",
       "      <th></th>\n",
       "      <th></th>\n",
       "      <th></th>\n",
       "      <th></th>\n",
       "      <th></th>\n",
       "      <th></th>\n",
       "      <th></th>\n",
       "      <th></th>\n",
       "      <th></th>\n",
       "    </tr>\n",
       "  </thead>\n",
       "  <tbody>\n",
       "    <tr>\n",
       "      <th>15</th>\n",
       "      <td>1.448833</td>\n",
       "      <td>0.000000</td>\n",
       "      <td>0.000000</td>\n",
       "      <td>0.000000</td>\n",
       "      <td>0.000000</td>\n",
       "      <td>0.007342</td>\n",
       "      <td>0.0</td>\n",
       "      <td>0.026471</td>\n",
       "      <td>0.717172</td>\n",
       "      <td>0.0</td>\n",
       "      <td>0.859102</td>\n",
       "      <td>0.000000</td>\n",
       "      <td>0.0</td>\n",
       "      <td>0.000000</td>\n",
       "      <td>0.105691</td>\n",
       "      <td>0.144126</td>\n",
       "      <td>0.014514</td>\n",
       "      <td>0.501449</td>\n",
       "      <td>0.028681</td>\n",
       "      <td>0.000000</td>\n",
       "    </tr>\n",
       "    <tr>\n",
       "      <th>73</th>\n",
       "      <td>0.082585</td>\n",
       "      <td>0.015546</td>\n",
       "      <td>0.178439</td>\n",
       "      <td>0.011364</td>\n",
       "      <td>0.045891</td>\n",
       "      <td>0.041116</td>\n",
       "      <td>0.0</td>\n",
       "      <td>0.035294</td>\n",
       "      <td>0.177489</td>\n",
       "      <td>0.0</td>\n",
       "      <td>0.411471</td>\n",
       "      <td>0.249711</td>\n",
       "      <td>0.0</td>\n",
       "      <td>0.004853</td>\n",
       "      <td>0.193767</td>\n",
       "      <td>0.218409</td>\n",
       "      <td>0.000000</td>\n",
       "      <td>0.224638</td>\n",
       "      <td>0.431166</td>\n",
       "      <td>0.031579</td>\n",
       "    </tr>\n",
       "    <tr>\n",
       "      <th>91</th>\n",
       "      <td>0.001197</td>\n",
       "      <td>0.041597</td>\n",
       "      <td>0.000000</td>\n",
       "      <td>0.000000</td>\n",
       "      <td>0.004269</td>\n",
       "      <td>0.005874</td>\n",
       "      <td>0.0</td>\n",
       "      <td>0.000000</td>\n",
       "      <td>0.000000</td>\n",
       "      <td>0.0</td>\n",
       "      <td>0.089776</td>\n",
       "      <td>0.005780</td>\n",
       "      <td>0.0</td>\n",
       "      <td>0.000000</td>\n",
       "      <td>0.008130</td>\n",
       "      <td>0.075495</td>\n",
       "      <td>0.000000</td>\n",
       "      <td>0.437681</td>\n",
       "      <td>0.142447</td>\n",
       "      <td>0.000000</td>\n",
       "    </tr>\n",
       "    <tr>\n",
       "      <th>144</th>\n",
       "      <td>0.000000</td>\n",
       "      <td>0.001261</td>\n",
       "      <td>0.000000</td>\n",
       "      <td>0.000000</td>\n",
       "      <td>0.000000</td>\n",
       "      <td>0.000000</td>\n",
       "      <td>0.0</td>\n",
       "      <td>0.000000</td>\n",
       "      <td>0.000000</td>\n",
       "      <td>0.0</td>\n",
       "      <td>0.000000</td>\n",
       "      <td>0.000000</td>\n",
       "      <td>0.0</td>\n",
       "      <td>0.000000</td>\n",
       "      <td>0.000000</td>\n",
       "      <td>0.002826</td>\n",
       "      <td>0.000000</td>\n",
       "      <td>0.000000</td>\n",
       "      <td>0.000000</td>\n",
       "      <td>0.000000</td>\n",
       "    </tr>\n",
       "    <tr>\n",
       "      <th>150</th>\n",
       "      <td>0.000000</td>\n",
       "      <td>0.000000</td>\n",
       "      <td>0.000000</td>\n",
       "      <td>0.000000</td>\n",
       "      <td>0.000000</td>\n",
       "      <td>0.000000</td>\n",
       "      <td>0.0</td>\n",
       "      <td>0.000000</td>\n",
       "      <td>0.000000</td>\n",
       "      <td>0.0</td>\n",
       "      <td>0.000000</td>\n",
       "      <td>0.000000</td>\n",
       "      <td>0.0</td>\n",
       "      <td>0.000000</td>\n",
       "      <td>0.000000</td>\n",
       "      <td>0.000000</td>\n",
       "      <td>0.000000</td>\n",
       "      <td>0.000000</td>\n",
       "      <td>0.000000</td>\n",
       "      <td>0.000000</td>\n",
       "    </tr>\n",
       "  </tbody>\n",
       "</table>\n",
       "</div>"
      ],
      "text/plain": [
       "mcc_group    Авиалинии, авиакомпании_amt  \\\n",
       "customer_id                                \n",
       "15                              1.448833   \n",
       "73                              0.082585   \n",
       "91                              0.001197   \n",
       "144                             0.000000   \n",
       "150                             0.000000   \n",
       "\n",
       "mcc_group    Автомобили и транспортные средства_amt  Аренда автомобилей_amt  \\\n",
       "customer_id                                                                   \n",
       "15                                         0.000000                0.000000   \n",
       "73                                         0.015546                0.178439   \n",
       "91                                         0.041597                0.000000   \n",
       "144                                        0.001261                0.000000   \n",
       "150                                        0.000000                0.000000   \n",
       "\n",
       "mcc_group    Бизнес услуги_amt  Государственные услуги_amt  \\\n",
       "customer_id                                                  \n",
       "15                    0.000000                    0.000000   \n",
       "73                    0.011364                    0.045891   \n",
       "91                    0.000000                    0.004269   \n",
       "144                   0.000000                    0.000000   \n",
       "150                   0.000000                    0.000000   \n",
       "\n",
       "mcc_group    Коммунальные и кабельные услуги_amt  Контрактные услуги_amt  \\\n",
       "customer_id                                                                \n",
       "15                                      0.007342                     0.0   \n",
       "73                                      0.041116                     0.0   \n",
       "91                                      0.005874                     0.0   \n",
       "144                                     0.000000                     0.0   \n",
       "150                                     0.000000                     0.0   \n",
       "\n",
       "mcc_group    Личные услуги_amt  Магазины одежды_amt  \\\n",
       "customer_id                                           \n",
       "15                    0.026471             0.717172   \n",
       "73                    0.035294             0.177489   \n",
       "91                    0.000000             0.000000   \n",
       "144                   0.000000             0.000000   \n",
       "150                   0.000000             0.000000   \n",
       "\n",
       "mcc_group    Оптовые поставщики и производители_amt  Отели и мотели_amt  \\\n",
       "customer_id                                                               \n",
       "15                                              0.0            0.859102   \n",
       "73                                              0.0            0.411471   \n",
       "91                                              0.0            0.089776   \n",
       "144                                             0.0            0.000000   \n",
       "150                                             0.0            0.000000   \n",
       "\n",
       "mcc_group    Поставщик услуг_amt  Продажи по почте/ телефону_amt  \\\n",
       "customer_id                                                        \n",
       "15                      0.000000                             0.0   \n",
       "73                      0.249711                             0.0   \n",
       "91                      0.005780                             0.0   \n",
       "144                     0.000000                             0.0   \n",
       "150                     0.000000                             0.0   \n",
       "\n",
       "mcc_group    Профессиональные услуги_amt  Развлечения_amt  \\\n",
       "customer_id                                                 \n",
       "15                              0.000000         0.105691   \n",
       "73                              0.004853         0.193767   \n",
       "91                              0.000000         0.008130   \n",
       "144                             0.000000         0.000000   \n",
       "150                             0.000000         0.000000   \n",
       "\n",
       "mcc_group    Различные магазины_amt  Ремонтные услуги_amt  \\\n",
       "customer_id                                                 \n",
       "15                         0.144126              0.014514   \n",
       "73                         0.218409              0.000000   \n",
       "91                         0.075495              0.000000   \n",
       "144                        0.002826              0.000000   \n",
       "150                        0.000000              0.000000   \n",
       "\n",
       "mcc_group    Розничные магазины_amt  Транспорт_amt  Членские организации_amt  \n",
       "customer_id                                                                   \n",
       "15                         0.501449       0.028681                  0.000000  \n",
       "73                         0.224638       0.431166                  0.031579  \n",
       "91                         0.437681       0.142447                  0.000000  \n",
       "144                        0.000000       0.000000                  0.000000  \n",
       "150                        0.000000       0.000000                  0.000000  "
      ]
     },
     "execution_count": 26,
     "metadata": {
      "tags": []
     },
     "output_type": "execute_result"
    }
   ],
   "source": [
    "sparse_transactions = pd.pivot_table(data, values='transaction_normalized', index=['customer_id'], aggfunc='sum',\n",
    "                     columns=['mcc_group'], fill_value = 0).add_suffix('_amt')\n",
    "sparse_transactions.head()"
   ]
  },
  {
   "cell_type": "code",
   "execution_count": 0,
   "metadata": {
    "colab": {},
    "colab_type": "code",
    "id": "85T-9UvJqvSs"
   },
   "outputs": [],
   "source": [
    "sparse_transactions.to_csv('preprocessed_transactions.csv', index=True)"
   ]
  },
  {
   "cell_type": "markdown",
   "metadata": {
    "colab_type": "text",
    "id": "EwIkaTd4rcGU"
   },
   "source": [
    "### Файлы \"customer_train.csv\" и \"customer_train.csv\""
   ]
  },
  {
   "cell_type": "code",
   "execution_count": 0,
   "metadata": {
    "colab": {},
    "colab_type": "code",
    "id": "vhIgMCYLrcGU"
   },
   "outputs": [],
   "source": [
    "users_train = pd.read_csv(\"customer_train.csv\")\n",
    "users_test = pd.read_csv(\"customer_test.csv\")"
   ]
  },
  {
   "cell_type": "code",
   "execution_count": 0,
   "metadata": {
    "colab": {},
    "colab_type": "code",
    "id": "fDWA_JHBrcGX",
    "outputId": "4e037461-4fb2-40ab-be85-3780b8fda8a4"
   },
   "outputs": [
    {
     "data": {
      "text/plain": [
       "customer_id               0\n",
       "product_0             48401\n",
       "product_1             26275\n",
       "product_2             45609\n",
       "product_3             43187\n",
       "product_4             47818\n",
       "product_5             16574\n",
       "product_6             47646\n",
       "gender_cd               363\n",
       "age                     310\n",
       "marital_status_cd     18793\n",
       "children_cnt           5271\n",
       "first_session_dttm        3\n",
       "job_position_cd           0\n",
       "job_title             23503\n",
       "dtype: int64"
      ]
     },
     "execution_count": 29,
     "metadata": {
      "tags": []
     },
     "output_type": "execute_result"
    }
   ],
   "source": [
    "users_train.isna().sum()"
   ]
  },
  {
   "cell_type": "code",
   "execution_count": 0,
   "metadata": {
    "colab": {},
    "colab_type": "code",
    "id": "K-yL1gefrcGa"
   },
   "outputs": [],
   "source": [
    "users_train_cleaned = users_train.dropna(subset=['gender_cd', 'age', 'first_session_dttm'])"
   ]
  },
  {
   "cell_type": "code",
   "execution_count": 0,
   "metadata": {
    "colab": {},
    "colab_type": "code",
    "collapsed": true,
    "id": "6FmqeZm3rcGe",
    "outputId": "a9e5b92b-dddd-4df8-e721-d503ff208312"
   },
   "outputs": [
    {
     "name": "stderr",
     "output_type": "stream",
     "text": [
      "C:\\Users\\Nikita\\Anaconda3\\lib\\site-packages\\ipykernel_launcher.py:1: SettingWithCopyWarning: \n",
      "A value is trying to be set on a copy of a slice from a DataFrame.\n",
      "Try using .loc[row_indexer,col_indexer] = value instead\n",
      "\n",
      "See the caveats in the documentation: http://pandas.pydata.org/pandas-docs/stable/indexing.html#indexing-view-versus-copy\n",
      "  \"\"\"Entry point for launching an IPython kernel.\n",
      "C:\\Users\\Nikita\\Anaconda3\\lib\\site-packages\\pandas\\core\\generic.py:6130: SettingWithCopyWarning: \n",
      "A value is trying to be set on a copy of a slice from a DataFrame\n",
      "\n",
      "See the caveats in the documentation: http://pandas.pydata.org/pandas-docs/stable/indexing.html#indexing-view-versus-copy\n",
      "  self._update_inplace(new_data)\n",
      "C:\\Users\\Nikita\\Anaconda3\\lib\\site-packages\\pandas\\core\\frame.py:3940: SettingWithCopyWarning: \n",
      "A value is trying to be set on a copy of a slice from a DataFrame\n",
      "\n",
      "See the caveats in the documentation: http://pandas.pydata.org/pandas-docs/stable/indexing.html#indexing-view-versus-copy\n",
      "  errors=errors)\n"
     ]
    }
   ],
   "source": [
    "users_train_cleaned['children_cnt_na'] = users_train_cleaned.children_cnt.isna()\n",
    "users_train_cleaned.children_cnt.fillna(-1, inplace=True)\n",
    "users_train_cleaned.marital_status_cd.fillna('unknown', inplace=True)\n",
    "product_features = [\"product_{}\".format(i) for i in range(7)]\n",
    "users_train_cleaned.drop(columns=product_features, inplace=True)\n",
    "users_train_cleaned.drop(columns=['job_title'], inplace=True)\n",
    "\n",
    "users_test['children_cnt_na'] = users_test.children_cnt.isna()\n",
    "users_test.children_cnt.fillna(-1, inplace=True)\n",
    "users_test.marital_status_cd.fillna('unknown', inplace=True)\n",
    "users_test.drop(columns=product_features, inplace=True)    \n",
    "users_test.drop(columns=['job_title'], inplace=True)"
   ]
  },
  {
   "cell_type": "code",
   "execution_count": 0,
   "metadata": {
    "colab": {},
    "colab_type": "code",
    "id": "s5xNrdPwrcGh",
    "scrolled": true
   },
   "outputs": [],
   "source": [
    "users_g_train = users_train_cleaned.join(pd.get_dummies(users_train_cleaned.gender_cd).add_prefix('g_'))\n",
    "users_g_train = users_g_train.drop(columns=['gender_cd'])\n",
    "\n",
    "users_gm_train = users_g_train.join(pd.get_dummies(users_g_train.marital_status_cd).add_prefix('m_'))\n",
    "users_gm_train = users_gm_train.drop(columns=['marital_status_cd'])\n",
    "\n",
    "users_gmj_train = users_gm_train.join(pd.get_dummies(users_gm_train.job_position_cd).add_prefix('j_'))\n",
    "users_gmj_train = users_gmj_train.drop(columns=['job_position_cd'])\n",
    "\n",
    "users_gmj_train['children_cnt_na'] = users_gmj_train['children_cnt_na'].astype('int')"
   ]
  },
  {
   "cell_type": "code",
   "execution_count": 0,
   "metadata": {
    "colab": {},
    "colab_type": "code",
    "id": "wpXio_4krcGn"
   },
   "outputs": [],
   "source": [
    "users_g_test = users_test.join(pd.get_dummies(users_test.gender_cd).add_prefix('g_'))\n",
    "users_g_test = users_g_test.drop(columns=['gender_cd'])\n",
    "\n",
    "users_gm_test = users_g_test.join(pd.get_dummies(users_g_test.marital_status_cd).add_prefix('m_'))\n",
    "users_gm_test = users_gm_test.drop(columns=['marital_status_cd'])\n",
    "\n",
    "users_gmj_test = users_gm_test.join(pd.get_dummies(users_gm_test.job_position_cd).add_prefix('j_'))\n",
    "users_gmj_test = users_gmj_test.drop(columns=['job_position_cd'])\n",
    "\n",
    "users_gmj_test['children_cnt_na'] = users_gmj_test['children_cnt_na'].astype('int')"
   ]
  },
  {
   "cell_type": "code",
   "execution_count": 0,
   "metadata": {
    "colab": {},
    "colab_type": "code",
    "id": "_DbpreQ3rcGp"
   },
   "outputs": [],
   "source": [
    "users_gmj_train.to_csv('fin_customers_train.csv', index=False)\n",
    "users_gmj_test.to_csv('fin_customers_test.csv', index=False)"
   ]
  },
  {
   "cell_type": "markdown",
   "metadata": {
    "colab_type": "text",
    "id": "e4uu1Jaakio3"
   },
   "source": [
    "### Объединение всех таблиц в один датасет"
   ]
  },
  {
   "cell_type": "code",
   "execution_count": 0,
   "metadata": {
    "colab": {},
    "colab_type": "code",
    "id": "aTaVHLggkJQh"
   },
   "outputs": [],
   "source": [
    "users_test = pd.read_csv('fin_customers_test.csv')\n",
    "users_train = pd.read_csv('fin_customers_train.csv')\n",
    "\n",
    "transactions = pd.read_csv('preprocessed_transactions.csv')\n",
    "stories = pd.read_csv('stories_preprocessed.csv')\n",
    "\n",
    "reactions_train = pd.read_csv('stories_reaction_train.csv')\n",
    "reactions_test = pd.read_csv('stories_reaction_test.csv')"
   ]
  },
  {
   "cell_type": "code",
   "execution_count": 0,
   "metadata": {
    "colab": {},
    "colab_type": "code",
    "id": "f8LMMyzXoXVO"
   },
   "outputs": [],
   "source": [
    "joined_train = pd.merge(users_train, \n",
    "                  transactions,\n",
    "                  on='customer_id',\n",
    "                  how='left')\n",
    "joined_train.loc[:, feature_dict['transactions_amt']] = joined_train.loc[:, feature_dict['transactions_amt']].fillna(0)\n",
    "\n",
    "\n",
    "joined_test = pd.merge(users_test, \n",
    "                  transactions,\n",
    "                  on='customer_id',\n",
    "                  how='left')\n",
    "joined_test.loc[:, feature_dict['transactions_amt']] = joined_test.loc[:, feature_dict['transactions_amt']].fillna(0)\n",
    "\n",
    "imp = SimpleImputer(missing_values=np.nan, strategy='mean')\n",
    "joined_test[['age']] = imp.fit_transform(joined_test[['age']])"
   ]
  },
  {
   "cell_type": "code",
   "execution_count": 0,
   "metadata": {
    "colab": {},
    "colab_type": "code",
    "id": "JVbSBt54rcGx",
    "outputId": "93fa37d2-6e10-49b0-f3bf-f494f2944a7b"
   },
   "outputs": [
    {
     "data": {
      "text/html": [
       "<div>\n",
       "<style scoped>\n",
       "    .dataframe tbody tr th:only-of-type {\n",
       "        vertical-align: middle;\n",
       "    }\n",
       "\n",
       "    .dataframe tbody tr th {\n",
       "        vertical-align: top;\n",
       "    }\n",
       "\n",
       "    .dataframe thead th {\n",
       "        text-align: right;\n",
       "    }\n",
       "</style>\n",
       "<table border=\"1\" class=\"dataframe\">\n",
       "  <thead>\n",
       "    <tr style=\"text-align: right;\">\n",
       "      <th></th>\n",
       "      <th>customer_id</th>\n",
       "      <th>age</th>\n",
       "      <th>children_cnt</th>\n",
       "      <th>first_session_dttm</th>\n",
       "      <th>children_cnt_na</th>\n",
       "      <th>g_F</th>\n",
       "      <th>g_M</th>\n",
       "      <th>m_CIV</th>\n",
       "      <th>m_DIV</th>\n",
       "      <th>m_DLW</th>\n",
       "      <th>...</th>\n",
       "      <th>Отели и мотели_amt</th>\n",
       "      <th>Поставщик услуг_amt</th>\n",
       "      <th>Продажи по почте/ телефону_amt</th>\n",
       "      <th>Профессиональные услуги_amt</th>\n",
       "      <th>Развлечения_amt</th>\n",
       "      <th>Различные магазины_amt</th>\n",
       "      <th>Ремонтные услуги_amt</th>\n",
       "      <th>Розничные магазины_amt</th>\n",
       "      <th>Транспорт_amt</th>\n",
       "      <th>Членские организации_amt</th>\n",
       "    </tr>\n",
       "  </thead>\n",
       "  <tbody>\n",
       "    <tr>\n",
       "      <th>0</th>\n",
       "      <td>234305</td>\n",
       "      <td>25.0</td>\n",
       "      <td>0.0</td>\n",
       "      <td>2015-10-29 09:59:10</td>\n",
       "      <td>0</td>\n",
       "      <td>1</td>\n",
       "      <td>0</td>\n",
       "      <td>0</td>\n",
       "      <td>0</td>\n",
       "      <td>0</td>\n",
       "      <td>...</td>\n",
       "      <td>0.000000</td>\n",
       "      <td>0.0</td>\n",
       "      <td>0.0</td>\n",
       "      <td>0.016446</td>\n",
       "      <td>0.010840</td>\n",
       "      <td>0.180057</td>\n",
       "      <td>0.0</td>\n",
       "      <td>0.249275</td>\n",
       "      <td>0.049713</td>\n",
       "      <td>0.0</td>\n",
       "    </tr>\n",
       "    <tr>\n",
       "      <th>1</th>\n",
       "      <td>914339</td>\n",
       "      <td>15.0</td>\n",
       "      <td>0.0</td>\n",
       "      <td>2018-04-09 08:51:54</td>\n",
       "      <td>0</td>\n",
       "      <td>0</td>\n",
       "      <td>1</td>\n",
       "      <td>0</td>\n",
       "      <td>0</td>\n",
       "      <td>0</td>\n",
       "      <td>...</td>\n",
       "      <td>0.000000</td>\n",
       "      <td>0.0</td>\n",
       "      <td>0.0</td>\n",
       "      <td>0.000000</td>\n",
       "      <td>0.000000</td>\n",
       "      <td>0.000807</td>\n",
       "      <td>0.0</td>\n",
       "      <td>0.002899</td>\n",
       "      <td>0.002868</td>\n",
       "      <td>0.0</td>\n",
       "    </tr>\n",
       "    <tr>\n",
       "      <th>2</th>\n",
       "      <td>895631</td>\n",
       "      <td>20.0</td>\n",
       "      <td>0.0</td>\n",
       "      <td>2018-03-22 10:38:33</td>\n",
       "      <td>0</td>\n",
       "      <td>0</td>\n",
       "      <td>1</td>\n",
       "      <td>0</td>\n",
       "      <td>0</td>\n",
       "      <td>0</td>\n",
       "      <td>...</td>\n",
       "      <td>0.000000</td>\n",
       "      <td>0.0</td>\n",
       "      <td>0.0</td>\n",
       "      <td>0.000000</td>\n",
       "      <td>0.002710</td>\n",
       "      <td>0.015745</td>\n",
       "      <td>0.0</td>\n",
       "      <td>0.110145</td>\n",
       "      <td>0.000000</td>\n",
       "      <td>0.0</td>\n",
       "    </tr>\n",
       "    <tr>\n",
       "      <th>3</th>\n",
       "      <td>954837</td>\n",
       "      <td>25.0</td>\n",
       "      <td>0.0</td>\n",
       "      <td>2018-05-09 18:24:32</td>\n",
       "      <td>0</td>\n",
       "      <td>1</td>\n",
       "      <td>0</td>\n",
       "      <td>0</td>\n",
       "      <td>0</td>\n",
       "      <td>0</td>\n",
       "      <td>...</td>\n",
       "      <td>0.021197</td>\n",
       "      <td>0.0</td>\n",
       "      <td>0.0</td>\n",
       "      <td>0.000000</td>\n",
       "      <td>0.006775</td>\n",
       "      <td>0.031490</td>\n",
       "      <td>0.0</td>\n",
       "      <td>0.049275</td>\n",
       "      <td>0.021989</td>\n",
       "      <td>0.0</td>\n",
       "    </tr>\n",
       "    <tr>\n",
       "      <th>4</th>\n",
       "      <td>391590</td>\n",
       "      <td>30.0</td>\n",
       "      <td>0.0</td>\n",
       "      <td>2016-10-08 05:29:20</td>\n",
       "      <td>0</td>\n",
       "      <td>0</td>\n",
       "      <td>1</td>\n",
       "      <td>0</td>\n",
       "      <td>0</td>\n",
       "      <td>0</td>\n",
       "      <td>...</td>\n",
       "      <td>0.000000</td>\n",
       "      <td>0.0</td>\n",
       "      <td>0.0</td>\n",
       "      <td>0.000000</td>\n",
       "      <td>0.000000</td>\n",
       "      <td>0.000000</td>\n",
       "      <td>0.0</td>\n",
       "      <td>0.000000</td>\n",
       "      <td>0.000000</td>\n",
       "      <td>0.0</td>\n",
       "    </tr>\n",
       "  </tbody>\n",
       "</table>\n",
       "<p>5 rows × 54 columns</p>\n",
       "</div>"
      ],
      "text/plain": [
       "   customer_id   age  children_cnt   first_session_dttm  children_cnt_na  g_F  \\\n",
       "0       234305  25.0           0.0  2015-10-29 09:59:10                0    1   \n",
       "1       914339  15.0           0.0  2018-04-09 08:51:54                0    0   \n",
       "2       895631  20.0           0.0  2018-03-22 10:38:33                0    0   \n",
       "3       954837  25.0           0.0  2018-05-09 18:24:32                0    1   \n",
       "4       391590  30.0           0.0  2016-10-08 05:29:20                0    0   \n",
       "\n",
       "   g_M  m_CIV  m_DIV  m_DLW  ...  Отели и мотели_amt  Поставщик услуг_amt  \\\n",
       "0    0      0      0      0  ...            0.000000                  0.0   \n",
       "1    1      0      0      0  ...            0.000000                  0.0   \n",
       "2    1      0      0      0  ...            0.000000                  0.0   \n",
       "3    0      0      0      0  ...            0.021197                  0.0   \n",
       "4    1      0      0      0  ...            0.000000                  0.0   \n",
       "\n",
       "   Продажи по почте/ телефону_amt  Профессиональные услуги_amt  \\\n",
       "0                             0.0                     0.016446   \n",
       "1                             0.0                     0.000000   \n",
       "2                             0.0                     0.000000   \n",
       "3                             0.0                     0.000000   \n",
       "4                             0.0                     0.000000   \n",
       "\n",
       "   Развлечения_amt  Различные магазины_amt  Ремонтные услуги_amt  \\\n",
       "0         0.010840                0.180057                   0.0   \n",
       "1         0.000000                0.000807                   0.0   \n",
       "2         0.002710                0.015745                   0.0   \n",
       "3         0.006775                0.031490                   0.0   \n",
       "4         0.000000                0.000000                   0.0   \n",
       "\n",
       "   Розничные магазины_amt  Транспорт_amt  Членские организации_amt  \n",
       "0                0.249275       0.049713                       0.0  \n",
       "1                0.002899       0.002868                       0.0  \n",
       "2                0.110145       0.000000                       0.0  \n",
       "3                0.049275       0.021989                       0.0  \n",
       "4                0.000000       0.000000                       0.0  \n",
       "\n",
       "[5 rows x 54 columns]"
      ]
     },
     "execution_count": 38,
     "metadata": {
      "tags": []
     },
     "output_type": "execute_result"
    }
   ],
   "source": [
    "joined_test.head()"
   ]
  },
  {
   "cell_type": "code",
   "execution_count": 0,
   "metadata": {
    "colab": {},
    "colab_type": "code",
    "id": "Mv905gwZlk71"
   },
   "outputs": [],
   "source": [
    "stories_with_reactions_train = pd.merge(stories, reactions_train, on='story_id', how='inner')\n",
    "stories_with_reactions_test = pd.merge(stories, reactions_test, on='story_id', how='right')\n",
    "\n",
    "final_train = pd.merge(joined_train, stories_with_reactions_train, on='customer_id', how='inner')\n",
    "final_test = pd.merge(joined_test, stories_with_reactions_test, on='customer_id', how='right')"
   ]
  },
  {
   "cell_type": "markdown",
   "metadata": {},
   "source": [
    "### Финальная дообработка"
   ]
  },
  {
   "cell_type": "code",
   "execution_count": 0,
   "metadata": {
    "colab": {},
    "colab_type": "code",
    "id": "9XJCKRS8rcG0"
   },
   "outputs": [],
   "source": [
    "final_test.loc[final_test['first_session_dttm'].isna(), \n",
    "               ['first_session_dttm']] = final_test.loc[final_test['first_session_dttm'].isna()]['event_dttm']"
   ]
  },
  {
   "cell_type": "code",
   "execution_count": 0,
   "metadata": {
    "colab": {},
    "colab_type": "code",
    "id": "VTfq8zfArcG2"
   },
   "outputs": [],
   "source": [
    "final_train.fillna(0, inplace=True)\n",
    "final_test.fillna(0, inplace=True)"
   ]
  },
  {
   "cell_type": "markdown",
   "metadata": {},
   "source": [
    "Получение временных характеристик показа истории (время суток, день недели, какое количество дней прошло с регистрации пользователя в приложении):"
   ]
  },
  {
   "cell_type": "code",
   "execution_count": 0,
   "metadata": {
    "colab": {},
    "colab_type": "code",
    "id": "LMqf0yOtrcG4"
   },
   "outputs": [],
   "source": [
    "fmt = '%Y-%m-%d %H:%M:%S'\n",
    "final_train['event_dttm'] = final_train['event_dttm'].apply(lambda x: dt.datetime.strptime(x, fmt))\n",
    "final_train['first_session_dttm'] = final_train['first_session_dttm'].apply(lambda x: dt.datetime.strptime(x, fmt))\n",
    "final_train['days_in_app'] = (final_train['event_dttm'] - final_train['first_session_dttm'])/np.timedelta64(1,'D')\n",
    "\n",
    "final_train['hour'] = final_train['event_dttm'].apply(lambda x: x.hour)\n",
    "final_train['morning'] = ((final_train['hour'] >= 7) & (final_train['hour'] <= 11)).astype('int')\n",
    "final_train['day'] = ((final_train['hour'] >= 12) & (final_train['hour'] <= 17)).astype('int')\n",
    "final_train['evening'] = ((final_train['hour'] >= 18) & (final_train['hour'] <= 23)).astype('int')\n",
    "final_train['night'] = ((final_train['hour'] >= 0) & (final_train['hour'] <= 6)).astype('int')\n",
    "\n",
    "final_train['day_of_week'] = final_train['event_dttm'].apply(lambda x: x.weekday())\n",
    "final_train['monday'] = (final_train['day_of_week'] == 0).astype('int')\n",
    "final_train['tuesday'] = (final_train['day_of_week'] == 1).astype('int')\n",
    "final_train['wednesday'] = (final_train['day_of_week'] == 2).astype('int')\n",
    "final_train['thursday'] = (final_train['day_of_week'] == 3).astype('int')\n",
    "final_train['friday'] = (final_train['day_of_week'] == 4).astype('int')\n",
    "final_train['saturday'] = (final_train['day_of_week'] == 5).astype('int')\n",
    "final_train['sunday'] = (final_train['day_of_week'] == 6).astype('int')"
   ]
  },
  {
   "cell_type": "code",
   "execution_count": 0,
   "metadata": {
    "colab": {},
    "colab_type": "code",
    "id": "u3o-rlN0rcG5"
   },
   "outputs": [],
   "source": [
    "fmt = '%Y-%m-%d %H:%M:%S'\n",
    "final_test['event_dttm'] = final_test['event_dttm'].apply(lambda x: dt.datetime.strptime(x, fmt))\n",
    "final_test['first_session_dttm'] = final_test['first_session_dttm'].apply(lambda x: dt.datetime.strptime(x, fmt))\n",
    "final_test['days_in_app'] = (final_test['event_dttm'] - final_test['first_session_dttm'])/np.timedelta64(1,'D')\n",
    "\n",
    "final_test['hour'] = final_test['event_dttm'].apply(lambda x: x.hour)\n",
    "final_test['morning'] = ((final_test['hour'] >= 7) & (final_test['hour'] <= 11)).astype('int')\n",
    "final_test['day'] = ((final_test['hour'] >= 12) & (final_test['hour'] <= 17)).astype('int')\n",
    "final_test['evening'] = ((final_test['hour'] >= 18) & (final_test['hour'] <= 23)).astype('int')\n",
    "final_test['night'] = ((final_test['hour'] >= 0) & (final_test['hour'] <= 6)).astype('int')\n",
    "\n",
    "final_test['day_of_week'] = final_test['event_dttm'].apply(lambda x: x.weekday())\n",
    "final_test['monday'] = (final_test['day_of_week'] == 0).astype('int')\n",
    "final_test['tuesday'] = (final_test['day_of_week'] == 1).astype('int')\n",
    "final_test['wednesday'] = (final_test['day_of_week'] == 2).astype('int')\n",
    "final_test['thursday'] = (final_test['day_of_week'] == 3).astype('int')\n",
    "final_test['friday'] = (final_test['day_of_week'] == 4).astype('int')\n",
    "final_test['saturday'] = (final_test['day_of_week'] == 5).astype('int')\n",
    "final_test['sunday'] = (final_test['day_of_week'] == 6).astype('int')"
   ]
  },
  {
   "cell_type": "code",
   "execution_count": 0,
   "metadata": {
    "colab": {},
    "colab_type": "code",
    "id": "NEhCCX6-rcHA"
   },
   "outputs": [],
   "source": [
    "columns=['event_dttm', 'first_session_dttm', 'customer_id', \n",
    "         'story_id', 'j_5', 'secondary_Dark blue', 'bcg',\n",
    "         'hour', 'day_of_week']\n",
    "final_train.drop(columns=columns, inplace=True)\n",
    "final_test.drop(columns=columns, inplace=True)"
   ]
  },
  {
   "cell_type": "code",
   "execution_count": 0,
   "metadata": {
    "colab": {},
    "colab_type": "code",
    "id": "pox56LUorcHD",
    "outputId": "ef1cebd2-a193-43eb-9b6f-7f133c6d31e3"
   },
   "outputs": [
    {
     "data": {
      "text/plain": [
       "((431986, 93), (172049, 93))"
      ]
     },
     "execution_count": 45,
     "metadata": {
      "tags": []
     },
     "output_type": "execute_result"
    }
   ],
   "source": [
    "final_train.shape, final_test.shape"
   ]
  },
  {
   "cell_type": "code",
   "execution_count": 0,
   "metadata": {
    "colab": {},
    "colab_type": "code",
    "id": "kfVzdSeXoYYw"
   },
   "outputs": [],
   "source": [
    "final_train.to_csv('final_train.csv', index=False)\n",
    "final_test.to_csv('final_test.csv', index=False)"
   ]
  }
 ],
 "metadata": {
  "colab": {
   "name": "tkf_preprocessing.ipynb",
   "provenance": []
  },
  "kernelspec": {
   "display_name": "Python 3",
   "language": "python",
   "name": "python3"
  },
  "language_info": {
   "codemirror_mode": {
    "name": "ipython",
    "version": 3
   },
   "file_extension": ".py",
   "mimetype": "text/x-python",
   "name": "python",
   "nbconvert_exporter": "python",
   "pygments_lexer": "ipython3",
   "version": "3.7.3"
  }
 },
 "nbformat": 4,
 "nbformat_minor": 1
}
